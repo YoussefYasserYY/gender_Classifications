{
 "cells": [
  {
   "cell_type": "markdown",
   "metadata": {},
   "source": [
    "# Import and Data Augmentation"
   ]
  },
  {
   "cell_type": "code",
   "execution_count": 1,
   "metadata": {
    "_cell_guid": "b1076dfc-b9ad-4769-8c92-a6c4dae69d19",
    "_uuid": "8f2839f25d086af736a60e9eeb907d3b93b6e0e5",
    "execution": {
     "iopub.execute_input": "2023-01-09T13:44:05.001321Z",
     "iopub.status.busy": "2023-01-09T13:44:04.999967Z",
     "iopub.status.idle": "2023-01-09T13:45:16.207181Z",
     "shell.execute_reply": "2023-01-09T13:45:16.205710Z",
     "shell.execute_reply.started": "2023-01-09T13:44:05.001169Z"
    }
   },
   "outputs": [],
   "source": [
    "#importing \n",
    "import numpy as np\n",
    "import pandas as pd\n",
    "\n",
    "from tensorflow import keras\n",
    "from keras.preprocessing.image import ImageDataGenerator as data_augment\n",
    "from keras.models import Model,Sequential\n",
    "from keras.layers import Input,Conv2D,MaxPooling2D,Dropout,Flatten,Dense,GlobalAveragePooling2D,BatchNormalization\n",
    "from keras.callbacks import EarlyStopping,ModelCheckpoint\n",
    "from tensorflow.keras import layers as layers"
   ]
  },
  {
   "cell_type": "code",
   "execution_count": 2,
   "metadata": {},
   "outputs": [],
   "source": [
    "#data augmetation \n",
    "data_generate_training = data_augment (rescale=1./255, \n",
    "                              shear_range = 0.2,\n",
    "                              zoom_range = 0.2,\n",
    "                              fill_mode = \"nearest\",\n",
    "                              horizontal_flip = True,\n",
    "                              width_shift_range = 0.2,\n",
    "                              height_shift_range = 0.2,\n",
    "                              validation_split = 0.15)\n",
    "\n",
    "data_generate_test = data_augment(rescale = 1./255)"
   ]
  },
  {
   "cell_type": "code",
   "execution_count": 3,
   "metadata": {},
   "outputs": [
    {
     "name": "stdout",
     "output_type": "stream",
     "text": [
      "Found 39959 images belonging to 2 classes.\n",
      "Found 1747 images belonging to 2 classes.\n"
     ]
    }
   ],
   "source": [
    "#data preprocessing and augmentation\n",
    "traind = data_generate_training.flow_from_directory(\"C:/Users/ghost/Desktop/tasks/Genders/Training\",\n",
    "                                          target_size = (96, 96),\n",
    "                                          seed = 123,\n",
    "                                          batch_size = 32,\n",
    "                                          subset = \"training\")\n",
    "\n",
    "testd = data_generate_training.flow_from_directory(\"C:/Users/ghost/Desktop/tasks/Genders/Validation\",\n",
    "                                          target_size = (96, 96),\n",
    "                                          seed = 123,\n",
    "                                          batch_size = 32,\n",
    "                                          subset = \"validation\")"
   ]
  },
  {
   "cell_type": "markdown",
   "metadata": {},
   "source": [
    "# Model Creation and Training"
   ]
  },
  {
   "cell_type": "code",
   "execution_count": 4,
   "metadata": {
    "execution": {
     "iopub.execute_input": "2023-01-09T13:45:16.209551Z",
     "iopub.status.busy": "2023-01-09T13:45:16.208901Z",
     "iopub.status.idle": "2023-01-09T15:01:06.268327Z",
     "shell.execute_reply": "2023-01-09T15:01:06.267097Z",
     "shell.execute_reply.started": "2023-01-09T13:45:16.209516Z"
    }
   },
   "outputs": [
    {
     "name": "stdout",
     "output_type": "stream",
     "text": [
      "Epoch 1/10\n",
      "1249/1249 [==============================] - 559s 446ms/step - loss: 0.4409 - accuracy: 0.8156 - val_loss: 0.5354 - val_accuracy: 0.7109\n",
      "Epoch 2/10\n",
      "1249/1249 [==============================] - 547s 438ms/step - loss: 0.2306 - accuracy: 0.9101 - val_loss: 0.2382 - val_accuracy: 0.9101\n",
      "Epoch 3/10\n",
      "1249/1249 [==============================] - 553s 443ms/step - loss: 0.1970 - accuracy: 0.9254 - val_loss: 0.1995 - val_accuracy: 0.9319\n",
      "Epoch 4/10\n",
      "1249/1249 [==============================] - 503s 403ms/step - loss: 0.1809 - accuracy: 0.9318 - val_loss: 0.2266 - val_accuracy: 0.9021\n",
      "Epoch 5/10\n",
      "1249/1249 [==============================] - 502s 402ms/step - loss: 0.1704 - accuracy: 0.9372 - val_loss: 0.1637 - val_accuracy: 0.9422\n",
      "Epoch 6/10\n",
      "1249/1249 [==============================] - 502s 402ms/step - loss: 0.1626 - accuracy: 0.9404 - val_loss: 0.1696 - val_accuracy: 0.9393\n",
      "Epoch 7/10\n",
      "1249/1249 [==============================] - 504s 403ms/step - loss: 0.1542 - accuracy: 0.9446 - val_loss: 0.1827 - val_accuracy: 0.9250\n",
      "Epoch 8/10\n",
      "1249/1249 [==============================] - 503s 403ms/step - loss: 0.1496 - accuracy: 0.9457 - val_loss: 0.1251 - val_accuracy: 0.9542\n",
      "Epoch 9/10\n",
      "1249/1249 [==============================] - 504s 403ms/step - loss: 0.1450 - accuracy: 0.9489 - val_loss: 0.1477 - val_accuracy: 0.9433\n",
      "Epoch 10/10\n",
      "1249/1249 [==============================] - 501s 401ms/step - loss: 0.1412 - accuracy: 0.9495 - val_loss: 0.1208 - val_accuracy: 0.9536\n"
     ]
    }
   ],
   "source": [
    "#Building Model\n",
    "CNNmodel = keras.Sequential([\n",
    "    layers.Conv2D(32, (3, 3), input_shape=(96, 96, 3), activation='relu'),\n",
    "    layers.BatchNormalization(),\n",
    "    layers.MaxPooling2D((2,2)),\n",
    "    layers.Dropout(0.2),\n",
    "    \n",
    "    layers.Conv2D(64, (3, 3), activation='relu'),\n",
    "    layers.BatchNormalization(),\n",
    "    layers.MaxPooling2D((2,2)),\n",
    "    layers.Dropout(0.2),\n",
    "    \n",
    "    layers.Conv2D(128, (3, 3), activation='relu'),\n",
    "    layers.BatchNormalization(),\n",
    "    layers.MaxPooling2D((2,2)),\n",
    "    layers.Dropout(0.2),\n",
    "    \n",
    "    layers.Flatten(),\n",
    "    layers.Dense(256, activation='relu'),\n",
    "    layers.Dropout(0.2),  \n",
    "    layers.Dense(128, activation = 'relu'),\n",
    "    layers.Dense(2, activation = 'sigmoid')\n",
    "])\n",
    "\n",
    "CNNmodel.compile(optimizer='adam',\n",
    "              loss=\"binary_crossentropy\",\n",
    "              metrics=['accuracy'])\n",
    "\n",
    "history = CNNmodel.fit(traind, epochs = 10, validation_data = testd) "
   ]
  },
  {
   "cell_type": "markdown",
   "metadata": {},
   "source": [
    "# Model Evaluation"
   ]
  },
  {
   "cell_type": "code",
   "execution_count": 7,
   "metadata": {
    "execution": {
     "iopub.execute_input": "2023-01-09T15:26:42.502008Z",
     "iopub.status.busy": "2023-01-09T15:26:42.501553Z",
     "iopub.status.idle": "2023-01-09T15:26:52.605432Z",
     "shell.execute_reply": "2023-01-09T15:26:52.604286Z",
     "shell.execute_reply.started": "2023-01-09T15:26:42.501971Z"
    }
   },
   "outputs": [
    {
     "name": "stdout",
     "output_type": "stream",
     "text": [
      "55/55 [==============================] - 8s 152ms/step - loss: 0.1236 - accuracy: 0.9576\n"
     ]
    },
    {
     "data": {
      "text/plain": [
       "[0.12360095232725143, 0.9576416611671448]"
      ]
     },
     "execution_count": 7,
     "metadata": {},
     "output_type": "execute_result"
    }
   ],
   "source": [
    "CNNmodel.evaluate(testd)"
   ]
  },
  {
   "cell_type": "code",
   "execution_count": 26,
   "metadata": {},
   "outputs": [
    {
     "ename": "ModuleNotFoundError",
     "evalue": "No module named 'streamlit'",
     "output_type": "error",
     "traceback": [
      "\u001b[1;31m---------------------------------------------------------------------------\u001b[0m",
      "\u001b[1;31mModuleNotFoundError\u001b[0m                       Traceback (most recent call last)",
      "Input \u001b[1;32mIn [26]\u001b[0m, in \u001b[0;36m<cell line: 1>\u001b[1;34m()\u001b[0m\n\u001b[1;32m----> 1\u001b[0m \u001b[38;5;28;01mimport\u001b[39;00m \u001b[38;5;21;01mstreamlit\u001b[39;00m \u001b[38;5;28;01mas\u001b[39;00m \u001b[38;5;21;01mst\u001b[39;00m\n",
      "\u001b[1;31mModuleNotFoundError\u001b[0m: No module named 'streamlit'"
     ]
    }
   ],
   "source": []
  },
  {
   "cell_type": "code",
   "execution_count": 27,
   "metadata": {},
   "outputs": [
    {
     "name": "stdout",
     "output_type": "stream",
     "text": [
      "^C\n",
      "Note: you may need to restart the kernel to use updated packages.\n"
     ]
    }
   ],
   "source": [
    "pip install streamlit"
   ]
  },
  {
   "cell_type": "code",
   "execution_count": null,
   "metadata": {},
   "outputs": [],
   "source": []
  }
 ],
 "metadata": {
  "kernelspec": {
   "display_name": "Python 3 (ipykernel)",
   "language": "python",
   "name": "python3"
  },
  "language_info": {
   "codemirror_mode": {
    "name": "ipython",
    "version": 3
   },
   "file_extension": ".py",
   "mimetype": "text/x-python",
   "name": "python",
   "nbconvert_exporter": "python",
   "pygments_lexer": "ipython3",
   "version": "3.9.12"
  }
 },
 "nbformat": 4,
 "nbformat_minor": 4
}
